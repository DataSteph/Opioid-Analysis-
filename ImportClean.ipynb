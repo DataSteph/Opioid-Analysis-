{
 "cells": [
  {
   "cell_type": "markdown",
   "metadata": {},
   "source": [
    "## Data Importing and Cleaning -- \n",
    "\n",
    "[CDC Wonder](https://wonder.cdc.gov) - compressed mortality"
   ]
  },
  {
   "cell_type": "code",
   "execution_count": 1,
   "metadata": {
    "collapsed": true
   },
   "outputs": [],
   "source": [
    "#import dependencies\n",
    "\n",
    "import pandas as pd\n",
    "import csv\n",
    "import os\n",
    "import requests\n"
   ]
  },
  {
   "cell_type": "code",
   "execution_count": 2,
   "metadata": {},
   "outputs": [
    {
     "name": "stdout",
     "output_type": "stream",
     "text": [
      "/Users/EricaLei/Desktop/Opioid-Analysis-/e_resources/\n"
     ]
    },
    {
     "data": {
      "text/plain": [
       "str"
      ]
     },
     "execution_count": 2,
     "metadata": {},
     "output_type": "execute_result"
    }
   ],
   "source": [
    "file = print('/Users/EricaLei/Desktop/Opioid-Analysis-/e_resources/')\n",
    "test =str(file)\n",
    "type(test)"
   ]
  },
  {
   "cell_type": "code",
   "execution_count": 4,
   "metadata": {
    "collapsed": true
   },
   "outputs": [],
   "source": [
    "def file_open(file_name):\n",
    "    '''opens the txt file as csv, drops the note column,drops the na values'''\n",
    "    my_csv = os.path.join(\"/Users/EricaLei/Desktop/Opioid-Analysis-/e_resources/\", file_name + \".txt\")\n",
    "    #print(my_csv)\n",
    "    csv_file = pd.read_csv(my_csv, sep='\\t')\n",
    "    csv_nonotes = csv_file.drop([\"Notes\",\"Year Code\",\"State Code\",\"Race Code\"],axis=1)\n",
    "    csv_edited = csv_nonotes.dropna(axis=0,how='all')\n",
    "    return csv_edited\n",
    "\n"
   ]
  },
  {
   "cell_type": "code",
   "execution_count": 7,
   "metadata": {
    "collapsed": true
   },
   "outputs": [],
   "source": [
    "opioid_09 = file_open(\"Opioid_2009\")\n",
    "opioid_10 = file_open(\"Opioid_2010\")\n",
    "opioid_11 = file_open(\"Opioid_2011\")\n",
    "opioid_12 = file_open(\"Opioid_2012\")\n",
    "opioid_13 = file_open(\"Opioid_2013\")\n",
    "opioid_14 = file_open(\"Opioid_2014\")\n",
    "opioid_15 = file_open(\"Opioid_2015\")\n",
    "opioid_16 = file_open(\"Opioid_2016\")\n",
    "\n",
    "#merge my files\n",
    "\n",
    "df_1 = pd.merge(opioid_09,opioid_10,how=\"outer\")\n",
    "df_2 = pd.merge(df_1,opioid_11, how=\"outer\")\n",
    "df_3 = pd.merge(df_2, opioid_12, how = \"outer\")\n",
    "df_4 = pd.merge(df_3,opioid_13,how=\"outer\")\n",
    "df_5 = pd.merge(df_4, opioid_14, how=\"outer\")\n",
    "df_6 = pd.merge(df_5, opioid_15, how=\"outer\")\n",
    "total_df = pd.merge(df_6, opioid_16, how=\"outer\")"
   ]
  },
  {
   "cell_type": "code",
   "execution_count": 9,
   "metadata": {},
   "outputs": [
    {
     "data": {
      "text/html": [
       "<div>\n",
       "<style>\n",
       "    .dataframe thead tr:only-child th {\n",
       "        text-align: right;\n",
       "    }\n",
       "\n",
       "    .dataframe thead th {\n",
       "        text-align: left;\n",
       "    }\n",
       "\n",
       "    .dataframe tbody tr th {\n",
       "        vertical-align: top;\n",
       "    }\n",
       "</style>\n",
       "<table border=\"1\" class=\"dataframe\">\n",
       "  <thead>\n",
       "    <tr style=\"text-align: right;\">\n",
       "      <th></th>\n",
       "      <th>Year</th>\n",
       "      <th>State</th>\n",
       "      <th>Race</th>\n",
       "      <th>Ten-Year Age Groups</th>\n",
       "      <th>Ten-Year Age Groups Code</th>\n",
       "      <th>Gender</th>\n",
       "      <th>Gender Code</th>\n",
       "      <th>Deaths</th>\n",
       "      <th>Population</th>\n",
       "      <th>Crude Rate</th>\n",
       "    </tr>\n",
       "  </thead>\n",
       "  <tbody>\n",
       "    <tr>\n",
       "      <th>4092</th>\n",
       "      <td>2016.0</td>\n",
       "      <td>Wisconsin</td>\n",
       "      <td>White</td>\n",
       "      <td>45-54 years</td>\n",
       "      <td>45-54</td>\n",
       "      <td>Male</td>\n",
       "      <td>M</td>\n",
       "      <td>77.0</td>\n",
       "      <td>356181.0</td>\n",
       "      <td>21.6</td>\n",
       "    </tr>\n",
       "    <tr>\n",
       "      <th>4093</th>\n",
       "      <td>2016.0</td>\n",
       "      <td>Wisconsin</td>\n",
       "      <td>White</td>\n",
       "      <td>55-64 years</td>\n",
       "      <td>55-64</td>\n",
       "      <td>Female</td>\n",
       "      <td>F</td>\n",
       "      <td>62.0</td>\n",
       "      <td>377677.0</td>\n",
       "      <td>16.4</td>\n",
       "    </tr>\n",
       "    <tr>\n",
       "      <th>4094</th>\n",
       "      <td>2016.0</td>\n",
       "      <td>Wisconsin</td>\n",
       "      <td>White</td>\n",
       "      <td>55-64 years</td>\n",
       "      <td>55-64</td>\n",
       "      <td>Male</td>\n",
       "      <td>M</td>\n",
       "      <td>55.0</td>\n",
       "      <td>373939.0</td>\n",
       "      <td>14.7</td>\n",
       "    </tr>\n",
       "    <tr>\n",
       "      <th>4095</th>\n",
       "      <td>2016.0</td>\n",
       "      <td>Wisconsin</td>\n",
       "      <td>White</td>\n",
       "      <td>65-74 years</td>\n",
       "      <td>65-74</td>\n",
       "      <td>Female</td>\n",
       "      <td>F</td>\n",
       "      <td>16.0</td>\n",
       "      <td>258251.0</td>\n",
       "      <td>Unreliable</td>\n",
       "    </tr>\n",
       "    <tr>\n",
       "      <th>4096</th>\n",
       "      <td>2016.0</td>\n",
       "      <td>Wisconsin</td>\n",
       "      <td>White</td>\n",
       "      <td>65-74 years</td>\n",
       "      <td>65-74</td>\n",
       "      <td>Male</td>\n",
       "      <td>M</td>\n",
       "      <td>11.0</td>\n",
       "      <td>244115.0</td>\n",
       "      <td>Unreliable</td>\n",
       "    </tr>\n",
       "  </tbody>\n",
       "</table>\n",
       "</div>"
      ],
      "text/plain": [
       "        Year      State   Race Ten-Year Age Groups Ten-Year Age Groups Code  \\\n",
       "4092  2016.0  Wisconsin  White         45-54 years                    45-54   \n",
       "4093  2016.0  Wisconsin  White         55-64 years                    55-64   \n",
       "4094  2016.0  Wisconsin  White         55-64 years                    55-64   \n",
       "4095  2016.0  Wisconsin  White         65-74 years                    65-74   \n",
       "4096  2016.0  Wisconsin  White         65-74 years                    65-74   \n",
       "\n",
       "      Gender Gender Code  Deaths  Population  Crude Rate  \n",
       "4092    Male           M    77.0    356181.0        21.6  \n",
       "4093  Female           F    62.0    377677.0        16.4  \n",
       "4094    Male           M    55.0    373939.0        14.7  \n",
       "4095  Female           F    16.0    258251.0  Unreliable  \n",
       "4096    Male           M    11.0    244115.0  Unreliable  "
      ]
     },
     "execution_count": 9,
     "metadata": {},
     "output_type": "execute_result"
    }
   ],
   "source": [
    "total_df.tail()"
   ]
  },
  {
   "cell_type": "code",
   "execution_count": 10,
   "metadata": {},
   "outputs": [
    {
     "data": {
      "text/plain": [
       "Year\n",
       "2009.0    19000.0\n",
       "2010.0    20269.0\n",
       "2011.0    22869.0\n",
       "2012.0    20603.0\n",
       "2013.0    24346.0\n",
       "2014.0    27728.0\n",
       "2015.0    31951.0\n",
       "2016.0    40476.0\n",
       "Name: Deaths, dtype: float64"
      ]
     },
     "execution_count": 10,
     "metadata": {},
     "output_type": "execute_result"
    }
   ],
   "source": [
    "total_df.groupby(\"Year\")[\"Deaths\"].sum()"
   ]
  },
  {
   "cell_type": "code",
   "execution_count": 11,
   "metadata": {},
   "outputs": [
    {
     "data": {
      "text/plain": [
       "Year\n",
       "2016.0    40476.0\n",
       "Name: Deaths, dtype: float64"
      ]
     },
     "execution_count": 11,
     "metadata": {},
     "output_type": "execute_result"
    }
   ],
   "source": [
    "opioid_16.groupby(\"Year\")[\"Deaths\"].sum()"
   ]
  },
  {
   "cell_type": "code",
   "execution_count": 12,
   "metadata": {
    "collapsed": true
   },
   "outputs": [],
   "source": [
    "#export to csv\n",
    "\n",
    "total_df.to_csv(\"/Users/EricaLei/Desktop/Opioid-Analysis-/detailed_mortality.csv\",index=False)"
   ]
  },
  {
   "cell_type": "code",
   "execution_count": null,
   "metadata": {
    "collapsed": true
   },
   "outputs": [],
   "source": []
  }
 ],
 "metadata": {
  "kernelspec": {
   "display_name": "Python[PythonData]",
   "language": "python",
   "name": "pythondata"
  },
  "language_info": {
   "codemirror_mode": {
    "name": "ipython",
    "version": 3
   },
   "file_extension": ".py",
   "mimetype": "text/x-python",
   "name": "python",
   "nbconvert_exporter": "python",
   "pygments_lexer": "ipython3",
   "version": "3.6.2"
  }
 },
 "nbformat": 4,
 "nbformat_minor": 2
}
