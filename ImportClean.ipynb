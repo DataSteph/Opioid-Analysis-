{
 "cells": [
  {
   "cell_type": "markdown",
   "metadata": {},
   "source": [
    "## Data Importing and Cleaning -- \n",
    "\n",
    "[CDC Wonder](https://wonder.cdc.gov) - compressed mortality"
   ]
  },
  {
   "cell_type": "code",
   "execution_count": 1,
   "metadata": {
    "collapsed": true
   },
   "outputs": [],
   "source": [
    "#import dependencies\n",
    "\n",
    "import pandas as pd\n",
    "import csv\n",
    "import os\n",
    "import requests\n"
   ]
  },
  {
   "cell_type": "code",
   "execution_count": 10,
   "metadata": {},
   "outputs": [
    {
     "name": "stdout",
     "output_type": "stream",
     "text": [
      "/Users/EricaLei/Desktop/Opioid-Analysis-/e_resources/\n"
     ]
    },
    {
     "data": {
      "text/plain": [
       "str"
      ]
     },
     "execution_count": 10,
     "metadata": {},
     "output_type": "execute_result"
    }
   ],
   "source": [
    "file = print('/Users/EricaLei/Desktop/Opioid-Analysis-/e_resources/')\n",
    "test =str(file)\n",
    "type(test)"
   ]
  },
  {
   "cell_type": "code",
   "execution_count": 13,
   "metadata": {
    "collapsed": true
   },
   "outputs": [],
   "source": [
    "def file_open(file_name):\n",
    "    '''opens the txt file as csv, drops the note column,drops the na values'''\n",
    "    my_csv = os.path.join(\"/Users/EricaLei/Desktop/Opioid-Analysis-/e_resources/\", file_name + \".txt\")\n",
    "    #print(my_csv)\n",
    "    csv_file = pd.read_csv(my_csv, sep='\\t')\n",
    "    csv_nonotes = csv_file.drop([\"Notes\",\"Year Code\",\"State Code\",\"Race Code\"],axis=1)\n",
    "    csv_edited = csv_nonotes.dropna(axis=0,how='all')\n",
    "    return csv_edited\n",
    "\n"
   ]
  },
  {
   "cell_type": "code",
   "execution_count": 40,
   "metadata": {},
   "outputs": [],
   "source": [
    "opioid_09 = file_open(\"Opioid_2009\")\n",
    "opioid_10 = file_open(\"Opioid_2010\")\n",
    "opioid_11 = file_open(\"Opioid_2011\")\n",
    "opioid_12 = file_open(\"Opioid_2012\")\n",
    "opioid_16 = file_open(\"Opioid_2016\")\n",
    "\n",
    "#merge my files\n",
    "\n",
    "df_1 = pd.merge(opioid_09,opioid_10,how=\"outer\")\n",
    "df_2 = pd.merge(df_1,opioid_11, how=\"outer\")\n",
    "df_3 = pd.merge(df_2, opioid_12, how = \"outer\")"
   ]
  },
  {
   "cell_type": "code",
   "execution_count": 38,
   "metadata": {},
   "outputs": [
    {
     "data": {
      "text/html": [
       "<div>\n",
       "<style>\n",
       "    .dataframe thead tr:only-child th {\n",
       "        text-align: right;\n",
       "    }\n",
       "\n",
       "    .dataframe thead th {\n",
       "        text-align: left;\n",
       "    }\n",
       "\n",
       "    .dataframe tbody tr th {\n",
       "        vertical-align: top;\n",
       "    }\n",
       "</style>\n",
       "<table border=\"1\" class=\"dataframe\">\n",
       "  <thead>\n",
       "    <tr style=\"text-align: right;\">\n",
       "      <th></th>\n",
       "      <th>Year</th>\n",
       "      <th>State</th>\n",
       "      <th>Race</th>\n",
       "      <th>Ten-Year Age Groups</th>\n",
       "      <th>Ten-Year Age Groups Code</th>\n",
       "      <th>Gender</th>\n",
       "      <th>Gender Code</th>\n",
       "      <th>Deaths</th>\n",
       "      <th>Population</th>\n",
       "      <th>Crude Rate</th>\n",
       "    </tr>\n",
       "  </thead>\n",
       "  <tbody>\n",
       "    <tr>\n",
       "      <th>0</th>\n",
       "      <td>2009.0</td>\n",
       "      <td>Alabama</td>\n",
       "      <td>White</td>\n",
       "      <td>15-24 years</td>\n",
       "      <td>15-24</td>\n",
       "      <td>Male</td>\n",
       "      <td>M</td>\n",
       "      <td>14.0</td>\n",
       "      <td>227585.0</td>\n",
       "      <td>Unreliable</td>\n",
       "    </tr>\n",
       "    <tr>\n",
       "      <th>1</th>\n",
       "      <td>2009.0</td>\n",
       "      <td>Alabama</td>\n",
       "      <td>White</td>\n",
       "      <td>25-34 years</td>\n",
       "      <td>25-34</td>\n",
       "      <td>Male</td>\n",
       "      <td>M</td>\n",
       "      <td>38.0</td>\n",
       "      <td>209864.0</td>\n",
       "      <td>18.1</td>\n",
       "    </tr>\n",
       "    <tr>\n",
       "      <th>2</th>\n",
       "      <td>2009.0</td>\n",
       "      <td>Alabama</td>\n",
       "      <td>White</td>\n",
       "      <td>35-44 years</td>\n",
       "      <td>35-44</td>\n",
       "      <td>Female</td>\n",
       "      <td>F</td>\n",
       "      <td>25.0</td>\n",
       "      <td>221942.0</td>\n",
       "      <td>11.3</td>\n",
       "    </tr>\n",
       "    <tr>\n",
       "      <th>3</th>\n",
       "      <td>2009.0</td>\n",
       "      <td>Alabama</td>\n",
       "      <td>White</td>\n",
       "      <td>35-44 years</td>\n",
       "      <td>35-44</td>\n",
       "      <td>Male</td>\n",
       "      <td>M</td>\n",
       "      <td>27.0</td>\n",
       "      <td>226271.0</td>\n",
       "      <td>11.9</td>\n",
       "    </tr>\n",
       "    <tr>\n",
       "      <th>4</th>\n",
       "      <td>2009.0</td>\n",
       "      <td>Alabama</td>\n",
       "      <td>White</td>\n",
       "      <td>45-54 years</td>\n",
       "      <td>45-54</td>\n",
       "      <td>Female</td>\n",
       "      <td>F</td>\n",
       "      <td>31.0</td>\n",
       "      <td>252180.0</td>\n",
       "      <td>12.3</td>\n",
       "    </tr>\n",
       "  </tbody>\n",
       "</table>\n",
       "</div>"
      ],
      "text/plain": [
       "     Year    State   Race Ten-Year Age Groups Ten-Year Age Groups Code  \\\n",
       "0  2009.0  Alabama  White         15-24 years                    15-24   \n",
       "1  2009.0  Alabama  White         25-34 years                    25-34   \n",
       "2  2009.0  Alabama  White         35-44 years                    35-44   \n",
       "3  2009.0  Alabama  White         35-44 years                    35-44   \n",
       "4  2009.0  Alabama  White         45-54 years                    45-54   \n",
       "\n",
       "   Gender Gender Code  Deaths  Population  Crude Rate  \n",
       "0    Male           M    14.0    227585.0  Unreliable  \n",
       "1    Male           M    38.0    209864.0        18.1  \n",
       "2  Female           F    25.0    221942.0        11.3  \n",
       "3    Male           M    27.0    226271.0        11.9  \n",
       "4  Female           F    31.0    252180.0        12.3  "
      ]
     },
     "execution_count": 38,
     "metadata": {},
     "output_type": "execute_result"
    }
   ],
   "source": [
    "df_3.head()"
   ]
  },
  {
   "cell_type": "code",
   "execution_count": 39,
   "metadata": {},
   "outputs": [
    {
     "data": {
      "text/plain": [
       "Year\n",
       "2009.0    19000.0\n",
       "2010.0    20269.0\n",
       "2011.0    22869.0\n",
       "2012.0    20603.0\n",
       "Name: Deaths, dtype: float64"
      ]
     },
     "execution_count": 39,
     "metadata": {},
     "output_type": "execute_result"
    }
   ],
   "source": [
    "df_3.groupby(\"Year\")[\"Deaths\"].sum()"
   ]
  },
  {
   "cell_type": "code",
   "execution_count": 41,
   "metadata": {},
   "outputs": [
    {
     "data": {
      "text/plain": [
       "Year\n",
       "2016.0    40476.0\n",
       "Name: Deaths, dtype: float64"
      ]
     },
     "execution_count": 41,
     "metadata": {},
     "output_type": "execute_result"
    }
   ],
   "source": [
    "opioid_16.groupby(\"Year\")[\"Deaths\"].sum()"
   ]
  },
  {
   "cell_type": "code",
   "execution_count": 34,
   "metadata": {
    "collapsed": true
   },
   "outputs": [],
   "source": [
    "#export to csv\n",
    "\n",
    "df_3.to_csv(\"/Users/EricaLei/Desktop/Opioid-Analysis-/opioid_fouryears.csv\",index=False)"
   ]
  },
  {
   "cell_type": "code",
   "execution_count": null,
   "metadata": {
    "collapsed": true
   },
   "outputs": [],
   "source": []
  }
 ],
 "metadata": {
  "kernelspec": {
   "display_name": "Python[PythonData]",
   "language": "python",
   "name": "pythondata"
  },
  "language_info": {
   "codemirror_mode": {
    "name": "ipython",
    "version": 3
   },
   "file_extension": ".py",
   "mimetype": "text/x-python",
   "name": "python",
   "nbconvert_exporter": "python",
   "pygments_lexer": "ipython3",
   "version": "3.6.2"
  }
 },
 "nbformat": 4,
 "nbformat_minor": 2
}
