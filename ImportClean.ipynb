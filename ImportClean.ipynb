{
 "cells": [
  {
   "cell_type": "markdown",
   "metadata": {},
   "source": [
    "## Data Importing and Cleaning -- \n",
    "\n",
    "[CDC Wonder](https://wonder.cdc.gov) - compressed mortality"
   ]
  },
  {
   "cell_type": "code",
   "execution_count": 119,
   "metadata": {
    "collapsed": true
   },
   "outputs": [],
   "source": [
    "#import dependencies\n",
    "\n",
    "import pandas as pd\n",
    "import csv\n",
    "import os\n"
   ]
  },
  {
   "cell_type": "code",
   "execution_count": 88,
   "metadata": {},
   "outputs": [
    {
     "name": "stdout",
     "output_type": "stream",
     "text": [
      "/Users/EricaLei/Desktop/Opioid-Analysis-/resources/\n"
     ]
    },
    {
     "data": {
      "text/plain": [
       "str"
      ]
     },
     "execution_count": 88,
     "metadata": {},
     "output_type": "execute_result"
    }
   ],
   "source": [
    "file = print('/Users/EricaLei/Desktop/Opioid-Analysis-/resources/')\n",
    "test =str(file)\n",
    "type(test)"
   ]
  },
  {
   "cell_type": "code",
   "execution_count": 170,
   "metadata": {},
   "outputs": [],
   "source": [
    "# al_ak_data = pd.read_csv('/Users/EricaLei/Desktop/Opioid-Analysis-/resources/Alabama_Alaska_data.txt',sep='\\t')\n",
    "# ar_data = pd.read_csv('/Users/EricaLei/Desktop/Opioid-Analysis-/resources/arkansas_data.txt',sep='\\t')\n",
    "# az_ca_co_cn_data=pd.read_csv('/Users/EricaLei/Desktop/Opioid-Analysis-/resources/AZ_CA_CO_CN.txt',sep='\\t')\n",
    "# dc_data = pd.read_csv(\"/Users/EricaLei/Desktop/Opioid-Analysis-/resources/DC_data_f.txt\",sep='\\t')\n",
    "# de_data = pd.read_csv(\"/Users/EricaLei/Desktop/Opioid-Analysis-/resources/deleware_data.txt\",sep='\\t')\n",
    "# fl_ga_hi_data = pd.read_csv(\"/Users/EricaLei/Desktop/Opioid-Analysis-/resources/FL_Georgia_HI_data.txt\",sep='\\t')\n"
   ]
  },
  {
   "cell_type": "code",
   "execution_count": 97,
   "metadata": {},
   "outputs": [],
   "source": [
    "# my_list = [\"idaho_data.txt\",\"Illinous_data.txt\",\"indiana_data.txt\"]\n",
    "\n",
    "# for i in my_list:\n",
    "#     file_loc = print(f\"/Users/EricaLei/Desktop/Opioid-Analysis-/resources/{i}, sep='\\\\t'\")\n",
    "#     str_file = str(file_loc)\n",
    "#     my_file = pd.read_csv(str_file)"
   ]
  },
  {
   "cell_type": "code",
   "execution_count": 117,
   "metadata": {},
   "outputs": [],
   "source": [
    "test = al_ak_data.drop([\"Notes\",\"Year Code\",\"Race Code\",\"State Code\"],axis=1) #to drop the 'notes section because it didnt contain any info' \n",
    "test1 = test.dropna(axis=0, how='all')"
   ]
  },
  {
   "cell_type": "code",
   "execution_count": 133,
   "metadata": {},
   "outputs": [
    {
     "data": {
      "text/html": [
       "<div>\n",
       "<style>\n",
       "    .dataframe thead tr:only-child th {\n",
       "        text-align: right;\n",
       "    }\n",
       "\n",
       "    .dataframe thead th {\n",
       "        text-align: left;\n",
       "    }\n",
       "\n",
       "    .dataframe tbody tr th {\n",
       "        vertical-align: top;\n",
       "    }\n",
       "</style>\n",
       "<table border=\"1\" class=\"dataframe\">\n",
       "  <thead>\n",
       "    <tr style=\"text-align: right;\">\n",
       "      <th></th>\n",
       "      <th>Year</th>\n",
       "      <th>State</th>\n",
       "      <th>Cause of death</th>\n",
       "      <th>Cause of death Code</th>\n",
       "      <th>Age Group</th>\n",
       "      <th>Age Group Code</th>\n",
       "      <th>Race</th>\n",
       "      <th>Deaths</th>\n",
       "      <th>Population</th>\n",
       "      <th>Crude Rate</th>\n",
       "    </tr>\n",
       "  </thead>\n",
       "  <tbody>\n",
       "    <tr>\n",
       "      <th>0</th>\n",
       "      <td>2000.0</td>\n",
       "      <td>Alabama</td>\n",
       "      <td>Mental and behavioural disorders due to use of...</td>\n",
       "      <td>F11.0</td>\n",
       "      <td>&lt; 1 year</td>\n",
       "      <td>1</td>\n",
       "      <td>American Indian or Alaska Native</td>\n",
       "      <td>Suppressed</td>\n",
       "      <td>470</td>\n",
       "      <td>Suppressed</td>\n",
       "    </tr>\n",
       "    <tr>\n",
       "      <th>1</th>\n",
       "      <td>2000.0</td>\n",
       "      <td>Alabama</td>\n",
       "      <td>Mental and behavioural disorders due to use of...</td>\n",
       "      <td>F11.0</td>\n",
       "      <td>&lt; 1 year</td>\n",
       "      <td>1</td>\n",
       "      <td>Asian or Pacific Islander</td>\n",
       "      <td>Suppressed</td>\n",
       "      <td>705</td>\n",
       "      <td>Suppressed</td>\n",
       "    </tr>\n",
       "    <tr>\n",
       "      <th>2</th>\n",
       "      <td>2000.0</td>\n",
       "      <td>Alabama</td>\n",
       "      <td>Mental and behavioural disorders due to use of...</td>\n",
       "      <td>F11.0</td>\n",
       "      <td>&lt; 1 year</td>\n",
       "      <td>1</td>\n",
       "      <td>Black or African American</td>\n",
       "      <td>Suppressed</td>\n",
       "      <td>18884</td>\n",
       "      <td>Suppressed</td>\n",
       "    </tr>\n",
       "    <tr>\n",
       "      <th>3</th>\n",
       "      <td>2000.0</td>\n",
       "      <td>Alabama</td>\n",
       "      <td>Mental and behavioural disorders due to use of...</td>\n",
       "      <td>F11.0</td>\n",
       "      <td>&lt; 1 year</td>\n",
       "      <td>1</td>\n",
       "      <td>White</td>\n",
       "      <td>Suppressed</td>\n",
       "      <td>39538</td>\n",
       "      <td>Suppressed</td>\n",
       "    </tr>\n",
       "    <tr>\n",
       "      <th>4</th>\n",
       "      <td>2000.0</td>\n",
       "      <td>Alabama</td>\n",
       "      <td>Mental and behavioural disorders due to use of...</td>\n",
       "      <td>F11.0</td>\n",
       "      <td>&lt; 1 year</td>\n",
       "      <td>1</td>\n",
       "      <td>NaN</td>\n",
       "      <td>Suppressed</td>\n",
       "      <td>59597</td>\n",
       "      <td>Suppressed</td>\n",
       "    </tr>\n",
       "  </tbody>\n",
       "</table>\n",
       "</div>"
      ],
      "text/plain": [
       "     Year    State                                     Cause of death  \\\n",
       "0  2000.0  Alabama  Mental and behavioural disorders due to use of...   \n",
       "1  2000.0  Alabama  Mental and behavioural disorders due to use of...   \n",
       "2  2000.0  Alabama  Mental and behavioural disorders due to use of...   \n",
       "3  2000.0  Alabama  Mental and behavioural disorders due to use of...   \n",
       "4  2000.0  Alabama  Mental and behavioural disorders due to use of...   \n",
       "\n",
       "  Cause of death Code Age Group Age Group Code  \\\n",
       "0               F11.0  < 1 year              1   \n",
       "1               F11.0  < 1 year              1   \n",
       "2               F11.0  < 1 year              1   \n",
       "3               F11.0  < 1 year              1   \n",
       "4               F11.0  < 1 year              1   \n",
       "\n",
       "                               Race      Deaths Population  Crude Rate  \n",
       "0  American Indian or Alaska Native  Suppressed        470  Suppressed  \n",
       "1         Asian or Pacific Islander  Suppressed        705  Suppressed  \n",
       "2         Black or African American  Suppressed      18884  Suppressed  \n",
       "3                             White  Suppressed      39538  Suppressed  \n",
       "4                               NaN  Suppressed      59597  Suppressed  "
      ]
     },
     "execution_count": 133,
     "metadata": {},
     "output_type": "execute_result"
    }
   ],
   "source": [
    "test1.head()"
   ]
  },
  {
   "cell_type": "code",
   "execution_count": 217,
   "metadata": {},
   "outputs": [],
   "source": [
    "def state_open(file_name):\n",
    "    '''opens the txt file as csv, drops the note column,drops the na values'''\n",
    "    my_csv = os.path.join(\"/Users/EricaLei/Desktop/Opioid-Analysis-/resources/\", file_name + \".txt\")\n",
    "    #print(my_csv)\n",
    "    csv_file = pd.read_csv(my_csv, sep='\\t')\n",
    "    csv_nonotes = csv_file.drop([\"Notes\"],axis=1)\n",
    "    csv_edited = csv_nonotes.dropna(axis=0,how='all')\n",
    "    return csv_edited\n",
    "\n"
   ]
  },
  {
   "cell_type": "code",
   "execution_count": 218,
   "metadata": {},
   "outputs": [],
   "source": [
    "#import 50 states\n",
    "\n",
    "al_ak_data = state_open(\"Alabama_Alaska_data\") #alabama alaska \n",
    "ar_data = state_open(\"arkansas_data\")\n",
    "az_ca_co_cn_data = state_open(\"AZ_CA_CO_CN\") #arizona california colorado conneticut \n",
    "dc_data = state_open(\"DC_data_f\")\n",
    "de_data = state_open(\"deleware_data\")\n",
    "fl_ga_hi_data = state_open(\"FL_Georgia_HI_data\") #florida georgia hawaii\n",
    "id_data = state_open(\"idaho_data\")\n",
    "il_data = state_open(\"illinous_data\")\n",
    "in_data = state_open(\"indiana_data\")\n",
    "ia_data = state_open(\"iowa_data\")\n",
    "ks_ky_data = state_open(\"kansas_kentucky_data\") #kansas kentucky\n",
    "la_me_data = state_open(\"louisiana_main_data\") #louisiana maine\n",
    "md_ma_data = state_open(\"maryland_massachusetts_data\") #maryland massachusetts\n",
    "mi_data = state_open(\"michigan_data\")\n",
    "mn_data = state_open(\"minneasota_data\")\n",
    "ms_data = state_open(\"mississippi_data\")\n",
    "mo_data = state_open(\"missouri_data\")\n",
    "mt_data = state_open(\"montana_data\")\n",
    "nc_data = state_open(\"NC_data\")\n",
    "nd_data = state_open(\"ND_data\")\n",
    "ne_data = state_open(\"nebraska_data\")\n",
    "nv_data = state_open(\"nevada_data\")\n",
    "nh_data = state_open(\"newHampshire_data\")\n",
    "nm_data = state_open(\"NewMexico_data\")\n",
    "nj_data = state_open(\"NJ_data\")\n",
    "ny_data = state_open(\"NY_data\")\n",
    "oh_data = state_open(\"OH_data\")\n",
    "ok_data = state_open(\"OK_data\")\n",
    "or_data = state_open(\"OR_data\")\n",
    "pa_data = state_open(\"penn_data\")\n",
    "ri_data = state_open(\"RI_data\")\n",
    "sc_data = state_open(\"SC_data\")\n",
    "sd_data = state_open(\"SD_data\")\n",
    "tn_data = state_open(\"TN_data\")\n",
    "tx_data = state_open(\"TX_data\")\n",
    "ut_data = state_open(\"UT_data\")\n",
    "vt_data = state_open(\"vermont_data\")\n",
    "va_data = state_open(\"virginia_data\")\n",
    "wa_data = state_open(\"washington_data\")\n",
    "wv_data = state_open(\"WV_data\")\n",
    "wi_data = state_open(\"wiscon_data\")\n",
    "wy_data = state_open(\"WY_data\")"
   ]
  },
  {
   "cell_type": "code",
   "execution_count": 249,
   "metadata": {},
   "outputs": [],
   "source": [
    "#merged all the states \n",
    "\n",
    "a = pd.merge(al_ak_data,ar_data,how='outer')\n",
    "aa = pd.merge(a, az_ca_co_cn_data, how='outer')\n",
    "aaa = pd.merge (aa, dc_data, how='outer')\n",
    "b = pd.merge(aaa, de_data, how='outer')\n",
    "bb = pd.merge(b, fl_ga_hi_data, how='outer')\n",
    "bbb = pd.merge (bb, id_data, how='outer')\n",
    "c = pd.merge (bbb, il_data, how='outer')\n",
    "cc = pd.merge(c, in_data, how='outer')\n",
    "ccc = pd.merge( cc, ia_data, how='outer')\n",
    "d = pd.merge (ccc, ks_ky_data, how='outer')\n",
    "dd = pd.merge(d, la_me_data, how='outer')\n",
    "ddd = pd.merge(dd, md_ma_data, how='outer')\n",
    "e = pd.merge(ddd, mi_data, how='outer')\n",
    "ee = pd.merge( e, mn_data, how='outer')\n",
    "eee = pd.merge ( ee, ms_data, how='outer')\n",
    "f = pd.merge(eee, mo_data, how='outer')\n",
    "ff = pd.merge(f , mt_data, how='outer')\n",
    "fff = pd.merge(ff, nc_data, how='outer')\n",
    "g =  pd.merge(fff, nd_data, how='outer')\n",
    "gg = pd.merge(g, ne_data, how='outer')\n",
    "ggg = pd.merge(gg,nv_data, how='outer')\n",
    "h = pd.merge(ggg, nh_data, how='outer')\n",
    "hh = pd.merge(h, nm_data, how='outer')\n",
    "hhh = pd.merge(hh, nj_data, how='outer')\n",
    "i = pd.merge(hhh, ny_data, how='outer')\n",
    "ii = pd.merge( i , oh_data, how='outer')\n",
    "iii = pd.merge( ii, ok_data, how='outer')\n",
    "j = pd.merge(iii, or_data, how='outer')\n",
    "jj = pd.merge(j,pa_data, how='outer')\n",
    "jjj = pd.merge(jj, ri_data, how='outer')\n",
    "k=pd.merge(jjj, sc_data, how = 'outer')\n",
    "kk = pd.merge(k, sd_data, how='outer')\n",
    "kkk = pd.merge(kk,tn_data, how='outer')\n",
    "l = pd.merge(kkk,tx_data,how='outer')\n",
    "ll = pd.merge(l, ut_data, how='outer')\n",
    "lll = pd.merge( ll, vt_data, how='outer')\n",
    "m = pd.merge(lll,va_data,how='outer')\n",
    "mm = pd.merge(m,wa_data, how='outer')\n",
    "mmm = pd.merge( mm,wv_data,how='outer')\n",
    "n = pd.merge(mmm, wi_data, how='outer')\n",
    "all_states_df = pd.merge(n, wy_data, how='outer')"
   ]
  },
  {
   "cell_type": "code",
   "execution_count": 255,
   "metadata": {},
   "outputs": [],
   "source": [
    "#export to csv\n",
    "\n",
    "all_states_df.to_csv(\"/Users/EricaLei/Desktop/Opioid-Analysis-/compressed_mortality_csv\",index=False)"
   ]
  },
  {
   "cell_type": "code",
   "execution_count": 240,
   "metadata": {},
   "outputs": [
    {
     "data": {
      "text/plain": [
       "244795"
      ]
     },
     "execution_count": 240,
     "metadata": {},
     "output_type": "execute_result"
    }
   ],
   "source": [
    "len(d)"
   ]
  },
  {
   "cell_type": "code",
   "execution_count": 227,
   "metadata": {},
   "outputs": [
    {
     "data": {
      "text/plain": [
       "39918"
      ]
     },
     "execution_count": 227,
     "metadata": {},
     "output_type": "execute_result"
    }
   ],
   "source": []
  },
  {
   "cell_type": "code",
   "execution_count": null,
   "metadata": {
    "collapsed": true
   },
   "outputs": [],
   "source": []
  }
 ],
 "metadata": {
  "kernelspec": {
   "display_name": "Python[PythonData]",
   "language": "python",
   "name": "pythondata"
  },
  "language_info": {
   "codemirror_mode": {
    "name": "ipython",
    "version": 3
   },
   "file_extension": ".py",
   "mimetype": "text/x-python",
   "name": "python",
   "nbconvert_exporter": "python",
   "pygments_lexer": "ipython3",
   "version": "3.6.2"
  }
 },
 "nbformat": 4,
 "nbformat_minor": 2
}
